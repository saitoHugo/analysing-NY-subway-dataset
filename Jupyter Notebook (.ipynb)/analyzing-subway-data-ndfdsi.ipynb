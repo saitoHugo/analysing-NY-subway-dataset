{
 "cells": [
  {
   "cell_type": "markdown",
   "metadata": {},
   "source": [
    "# Subway Data Analysis\n",
    "\n",
    "## Introduction\n",
    "\n",
    "O sistema de ônibus e trens de Nova Iorque - o Metro Transit Authority - fornece seus dados para download através de  arquivos csv. Uma das informações disponíveis são os dados das catracas do metrô que contém logs semanais de entradas cumulativas e saídas por catraca por estação de metrô em algum intervalo de tempo.\n",
    "\n",
    "\n",
    "Neste projeto iremos utilizar apenas os das catraca disponíveis em: http://web.mta.info/developers/turnstile.html.\n",
    "\n",
    "\n"
   ]
  },
  {
   "cell_type": "markdown",
   "metadata": {},
   "source": [
    "# Sobre este projeto\n",
    "\n",
    "Neste projeto você irá aplicar todos os conhecimentos adquiridos neste primeiro mês de curso. Iremos praticar tarefas básicas de aquisição, limpeza de dados e nesse processo iremos descobrir coisas essenciais sobre os dados utilizando o que foi aprendido no curso de estatística. \n",
    "\n",
    "O objetivo deste projeto é explorar a relação entre os dados das catracas do metro de Nova Iorque e o clima no dia da coleta. Para isso, além dos dados do metrô, precisaremos os dados de clima da cidade de Nova Iorque. \n",
    "\n",
    "Os principais pontos que serão verificados neste trabalho:\n",
    "\n",
    "- Coleta de dados da internet\n",
    "- Utilização de estatística para análise de dados\n",
    "- Manipulação de dados e criação de gráficos simples com o `Pandas`\n",
    "\n",
    "*Como conseguir ajuda*: Sugerimos que tente os seguintes canais, nas seguintes ordens:\n",
    "\n",
    "| Tipo de dúvida\\Canais         \t| Google \t| Fórum \t| Slack \t| Email \t|\n",
    "|-------------------------------\t|--------\t|-------\t|-------\t|-------\t|\n",
    "| Programação Pyhon e Pandas    \t| 1      \t| 2     \t| 3     \t|       \t|\n",
    "| Requisitos do projeto         \t|        \t| 1     \t| 2     \t| 3     \t|\n",
    "| Partes específicas do Projeto \t|        \t| 1     \t| 2     \t| 3     \t|\n",
    "\n",
    "Os endereços dos canais são:\n",
    "\n",
    "- Fórum: https://discussions.udacity.com/c/ndfdsi-project\n",
    "- Slack: [udacity-br.slack.com](https://udacity-br.slack.com/messages/C5MT6E3E1)\n",
    "- Email: data-suporte@udacity.com\n",
    "\n",
    "**Espera-se que o estudante entregue este relatório com:**\n",
    "\n",
    "- Todos os TODO feitos, pois eles são essenciais para que o código rode corretamente\n",
    "- O arquivo ipynb exportado como html\n",
    "\n",
    "Para entregar este projeto, vá a [sala de aula](https://coco.udacity.com/nanodegrees/nd111/locale/pt-br/versions/1.0.0/parts/339726/modules/339733/lessons/340886/project) e submeta o seu `.ipynb` e o html, zipados."
   ]
  },
  {
   "cell_type": "markdown",
   "metadata": {},
   "source": [
    "# Lembretes\n",
    "\n",
    "Antes de começarmos, alguns lembretes devem ter em mente ao usar os notebooks iPython:\n",
    "\n",
    "- Lembre-se de que você pode ver do lado esquerdo de uma célula de código quando foi executado pela última vez se houver um número dentro das chaves.\n",
    "- Quando você inicia uma nova sessão do notebook, certifique-se de executar todas as células até o ponto em que você deixou a última vez. Mesmo que a saída ainda seja visível a partir de quando você executou as células em sua sessão anterior, o kernel começa em um estado novo, então você precisará recarregar os dados, etc. em uma nova sessão.\n",
    "- O ponto anterior é útil para ter em mente se suas respostas não correspondem ao que é esperado nos questionários da aula. Tente recarregar os dados e execute todas as etapas de processamento um a um para garantir que você esteja trabalhando com as mesmas variáveis e dados que estão em cada fase do questionário."
   ]
  },
  {
   "cell_type": "markdown",
   "metadata": {},
   "source": [
    "## Seção 1 - Coleta de Dados\n",
    "\n",
    "### *Exercicio 1.1*\n",
    "\n",
    "Mãos a obra!! Agora é sua vez de coletar os dados. Escreva abaixo um código python que acesse o link http://web.mta.info/developers/turnstile.html e baixe os arquivos do mês de junho de 2017. O arquivo deverá ser salvo com o nome turnstile_100617.txt onde 10/06/17 é a data do arquivo.\n",
    "\n",
    "Abaixo seguem alguns comandos que poderão te ajudar:\n",
    "\n",
    "Utilize a biblioteca **urllib** para abrir e resgatar uma página da web. Utilize o comando abaixo onde **url** será o caminho da página da web onde se encontra o arquivo:\n",
    "\n",
    "```python\n",
    "u = urllib.urlopen(url)\n",
    "html = u.read()\n",
    "```\n",
    "\n",
    "Utilize a biblioteca **BeautifulSoup** para procurar na página pelo link do arquivo que deseja baixar. Utilize o comando abaixo para criar o seu objeto *soup* e procurar por todas as tags 'a'no documento:\n",
    " \n",
    " \n",
    "```python\n",
    "soup = BeautifulSoup(html, \"html.parser\")\n",
    "links = soup.find_all('a')\n",
    "```\n",
    "\n",
    "Uma dica para baixar apenas os arquivos do mês de junho é verificar a data no nome do arquivo. Por exemplo, para baixar o arquivo do dia 17/06/2017 verifique se o link termina com *\"turnstile_170610.txt\"*. Se não fizer isso você baixará todos os arquivos da página. Para fazer isso utilize o comando conforme abaixo:\n",
    "\n",
    "```python\n",
    "if '1706' in link.get('href'):\n",
    "```\n",
    "\n",
    "E a dica final é utilizar o comando abaixo para fazer o download do arquivo txt:\n",
    "\n",
    "```python\n",
    "urllib.urlretrieve(link_do_arquivo, filename)\n",
    "```\n",
    "\n",
    "Lembre-se, primeiro, carregue todos os pacotes e funções que você estará usando em sua análise."
   ]
  },
  {
   "cell_type": "code",
   "execution_count": 1,
   "metadata": {},
   "outputs": [
    {
     "name": "stdout",
     "output_type": "stream",
     "text": [
      "170624\n",
      "170617\n",
      "170610\n",
      "170603\n"
     ]
    }
   ],
   "source": [
    "import urllib\n",
    "from bs4 import BeautifulSoup\n",
    "\n",
    "#Para abrir e ler a página dos arquivos \n",
    "url = \"http://web.mta.info/developers/turnstile.html\"\n",
    "u = urllib.urlopen(url)\n",
    "html = u.read()\n",
    "\n",
    "#Procurando os arquivos para download, para isso foi necessário inspecionar o html e encontrar qual tag \n",
    "#representa os arquivos para download \n",
    "#Dentro do \"body\" é preciso analisar as tags <a> e aceesar os \"href\" aonde estão os links para download dos dados\n",
    "soup = BeautifulSoup(html, \"html.parser\")\n",
    "links = soup.find(\"div\", class_=\"span-84 last\").find_all('a')\n",
    "\n",
    "#Para verificar se os daods são do mês de junho de 2017:\n",
    "Dates =[\"170603\", \"170610\", \"170617\", \"170624\"]\n",
    "for link in links:\n",
    "    href = link.get(\"href\")\n",
    "    #print href\n",
    "    for date in Dates:\n",
    "        if date in href:\n",
    "            print date\n",
    "            urllib.urlretrieve(\"http://web.mta.info/developers/\"+href, \"turnstile_\"+date+\".txt\")\n",
    "            \n",
    "#OBS: Os download foram para o mesmo diretório do .ipynb"
   ]
  },
  {
   "cell_type": "markdown",
   "metadata": {},
   "source": [
    "### *Exercicio 1.2*\n",
    "\n",
    "Escreva uma função que pegue a lista de nomes dos arquivos que você baixou no exercicio 1.1 e consolide-os em um único arquivo. Deve existir apenas uma linha de cabeçalho no arquivo de saida. \n",
    "\n",
    "Por exemplo, se o arquivo_1 tiver:\n",
    "linha 1...\n",
    "linha 2...\n",
    "\n",
    "e o outro arquivo, arquivo_2 tiver:\n",
    "linha 3...\n",
    "linha 4...\n",
    "linha 5...\n",
    "\n",
    "Devemos combinar o arquivo_1 com arquivo_2 em um arquivo mestre conforme abaixo:\n",
    "\n",
    "'C/A, UNIT, SCP, DATEn, TIMEn, DESCn, ENTRIESn, EXITSn'\n",
    "linha 1...\n",
    "linha 2...\n",
    "linha 3...\n",
    "linha 4...\n",
    "linha 5...\n"
   ]
  },
  {
   "cell_type": "code",
   "execution_count": 2,
   "metadata": {
    "collapsed": true
   },
   "outputs": [],
   "source": [
    "def create_master_turnstile_file(filenames, output_file):\n",
    "    with open(output_file, 'w') as master_file:\n",
    "        master_file.write('C/A,UNIT,SCP,STATION, LINENAME, DIVISION, DATEn,TIMEn,DESCn,ENTRIESn,EXITSn\\n')\n",
    "        for filename in filenames:\n",
    "            with open(filename, 'r') as turnstile:\n",
    "                count =1\n",
    "                for line in turnstile:\n",
    "                    if count == 1:\n",
    "                        count += 1\n",
    "                        continue\n",
    "                    else:\n",
    "                        master_file.write(str(line)+\"\\n\")\n"
   ]
  },
  {
   "cell_type": "code",
   "execution_count": 3,
   "metadata": {
    "collapsed": true
   },
   "outputs": [],
   "source": [
    "filenames = [\"turnstile_170624.txt\", \"turnstile_170603.txt\", \"turnstile_170610.txt\", \"turnstile_170617.txt\"]\n",
    "#Determinando o nome do arquivo do output\n",
    "output_file = \"master_turnstile.txt\"\n",
    "#Unindo os arquivos\n",
    "create_master_turnstile_file(filenames, output_file)"
   ]
  },
  {
   "cell_type": "markdown",
   "metadata": {},
   "source": [
    "### *Exercicio 1.3*\n",
    "\n",
    "Neste exercício, escreva um função que leia o master_file criado no exercicio anterior e carregue-o em um pandas dataframe. Esta função deve filtrar para que o dataframe possua apenas linhas onde a coluna \"DESCn\" possua o valor \"Regular\".\n",
    "\n",
    "Por exemplo, se o data frame do pandas estiver conforme abaixo:\n",
    "    \n",
    "    ,C/A,UNIT,SCP,DATEn,TIMEn,DESCn,ENTRIESn,EXITSn\n",
    "    0,A002,R051,02-00-00,05-01-11,00:00:00,REGULAR,3144312,1088151\n",
    "    1,A002,R051,02-00-00,05-01-11,04:00:00,DOOR,3144335,1088159\n",
    "    2,A002,R051,02-00-00,05-01-11,08:00:00,REGULAR,3144353,1088177\n",
    "    3,A002,R051,02-00-00,05-01-11,12:00:00,DOOR,3144424,1088231\n",
    "\n",
    "O dataframe deverá ficar conforme abaixo depois de filtrar apenas as linhas onde a coluna DESCn possua o valor REGULAR:\n",
    "\n",
    "    0,A002,R051,02-00-00,05-01-11,00:00:00,REGULAR,3144312,1088151\n",
    "    2,A002,R051,02-00-00,05-01-11,08:00:00,REGULAR,3144353,1088177\n"
   ]
  },
  {
   "cell_type": "code",
   "execution_count": 4,
   "metadata": {
    "collapsed": true
   },
   "outputs": [],
   "source": [
    "import pandas\n",
    "\n",
    "def filter_by_regular(filename):\n",
    "    \n",
    "    turnstile_data = pandas.read_table(filename, sep=\",\")\n",
    "    #print turnstile_data.head() >>TEST\n",
    "    turnstile_data = turnstile_data[turnstile_data.DESCn == \"REGULAR\"]\n",
    "    return turnstile_data"
   ]
  },
  {
   "cell_type": "code",
   "execution_count": 5,
   "metadata": {
    "collapsed": true
   },
   "outputs": [],
   "source": [
    "master_turnstile_reg = filter_by_regular(\"master_turnstile.txt\")"
   ]
  },
  {
   "cell_type": "markdown",
   "metadata": {},
   "source": [
    "### *Exercicio 1.4*\n",
    "\n",
    "\n",
    "Os dados do metrô de NY possui dados cumulativos de entradas e saidas por linha. Assuma que você possui um dataframe chamado df que contém apenas linhas para uma catraca em particular (unico SCP, C/A, e UNIT). A função abaixo deve alterar essas entradas cumulativas para a contagem de entradas desde a última leitura (entradas desde a última linha do dataframe).\n",
    "\n",
    "Mais especificamente, você deverá fazer duas coisas:\n",
    "\n",
    "1 - Criar uma nova coluna chamada ENTRIESn_hourly\n",
    "\n",
    "2 - Inserir nessa coluna a diferença enre ENTRIESn da coluna atual e a da coluna anterior. Se a linha possuir alguma NAN, preencha/substitua por 1.\n",
    "\n",
    "Dica: as funções do pandas shift() e fillna() pode ser úteis nesse exercicio.\n",
    "\n",
    "Abaixo tem um exemplo de como seu dataframe deve ficar ao final desse exercicio:\n",
    "\n",
    "        C/A  UNIT       SCP     DATEn     TIMEn    DESCn  ENTRIESn    EXITSn  ENTRIESn_hourly\n",
    "    0     A002  R051  02-00-00  05-01-11  00:00:00  REGULAR   3144312   1088151                1\n",
    "    1     A002  R051  02-00-00  05-01-11  04:00:00  REGULAR   3144335   1088159               23\n",
    "    2     A002  R051  02-00-00  05-01-11  08:00:00  REGULAR   3144353   1088177               18\n",
    "    3     A002  R051  02-00-00  05-01-11  12:00:00  REGULAR   3144424   1088231               71\n",
    "    4     A002  R051  02-00-00  05-01-11  16:00:00  REGULAR   3144594   1088275              170\n",
    "    5     A002  R051  02-00-00  05-01-11  20:00:00  REGULAR   3144808   1088317              214\n",
    "    6     A002  R051  02-00-00  05-02-11  00:00:00  REGULAR   3144895   1088328               87\n",
    "    7     A002  R051  02-00-00  05-02-11  04:00:00  REGULAR   3144905   1088331               10\n",
    "    8     A002  R051  02-00-00  05-02-11  08:00:00  REGULAR   3144941   1088420               36\n",
    "    9     A002  R051  02-00-00  05-02-11  12:00:00  REGULAR   3145094   1088753              153\n",
    "    10    A002  R051  02-00-00  05-02-11  16:00:00  REGULAR   3145337   1088823              243"
   ]
  },
  {
   "cell_type": "code",
   "execution_count": 6,
   "metadata": {
    "collapsed": true
   },
   "outputs": [],
   "source": [
    "import pandas\n",
    "\n",
    "def get_hourly_entries(df):\n",
    "    #criar uma nova coluna\n",
    "    #para cada linha\n",
    "        #Se existir linha anterior:\n",
    "            #valor dessa nova coluna nessa linha é a dif dessa para anterior\n",
    "        #Se não existir anterior ou anteir igual NAN\n",
    "            #adicionar essa linha como sendo 1\n",
    "    df[\"ENTRIESn\"].fillna(0, inplace=True)\n",
    "    df[\"ENTRIESn_hourly\"] = \"\"\n",
    "    df[\"ENTRIESn_shift\"] = df.ENTRIESn.shift(1)\n",
    "    for index, row in df.iterrows():\n",
    "        if index == 0:\n",
    "            df.set_value(index, \"ENTRIESn_hourly\", 1)\n",
    "          \n",
    "        else:\n",
    "            dif = row[\"ENTRIESn\"] - row[\"ENTRIESn_shift\"]\n",
    "            df.set_value(index, \"ENTRIESn_hourly\", dif)\n",
    "    df = df.drop(\"ENTRIESn_shift\", 1) \n",
    "    return df"
   ]
  },
  {
   "cell_type": "code",
   "execution_count": 7,
   "metadata": {
    "scrolled": true
   },
   "outputs": [
    {
     "name": "stderr",
     "output_type": "stream",
     "text": [
      "C:\\Users\\User\\Anaconda3\\envs\\py2\\lib\\site-packages\\pandas\\core\\generic.py:3660: SettingWithCopyWarning: \n",
      "A value is trying to be set on a copy of a slice from a DataFrame\n",
      "\n",
      "See the caveats in the documentation: http://pandas.pydata.org/pandas-docs/stable/indexing.html#indexing-view-versus-copy\n",
      "  self._update_inplace(new_data)\n",
      "C:\\Users\\User\\Anaconda3\\envs\\py2\\lib\\site-packages\\ipykernel_launcher.py:11: SettingWithCopyWarning: \n",
      "A value is trying to be set on a copy of a slice from a DataFrame.\n",
      "Try using .loc[row_indexer,col_indexer] = value instead\n",
      "\n",
      "See the caveats in the documentation: http://pandas.pydata.org/pandas-docs/stable/indexing.html#indexing-view-versus-copy\n",
      "  # This is added back by InteractiveShellApp.init_path()\n",
      "C:\\Users\\User\\Anaconda3\\envs\\py2\\lib\\site-packages\\ipykernel_launcher.py:12: SettingWithCopyWarning: \n",
      "A value is trying to be set on a copy of a slice from a DataFrame.\n",
      "Try using .loc[row_indexer,col_indexer] = value instead\n",
      "\n",
      "See the caveats in the documentation: http://pandas.pydata.org/pandas-docs/stable/indexing.html#indexing-view-versus-copy\n",
      "  if sys.path[0] == '':\n"
     ]
    },
    {
     "name": "stdout",
     "output_type": "stream",
     "text": [
      "    C/A  UNIT       SCP STATION  LINENAME  DIVISION       DATEn     TIMEn  \\\n",
      "0  A002  R051  02-00-00   59 ST   NQR456W       BMT  06/17/2017  00:00:00   \n",
      "1  A002  R051  02-00-00   59 ST   NQR456W       BMT  06/17/2017  04:00:00   \n",
      "2  A002  R051  02-00-00   59 ST   NQR456W       BMT  06/17/2017  08:00:00   \n",
      "3  A002  R051  02-00-00   59 ST   NQR456W       BMT  06/17/2017  12:00:00   \n",
      "4  A002  R051  02-00-00   59 ST   NQR456W       BMT  06/17/2017  16:00:00   \n",
      "\n",
      "     DESCn  ENTRIESn   EXITSn ENTRIESn_hourly  \n",
      "0  REGULAR   6224816  2107317               1  \n",
      "1  REGULAR   6224850  2107322              34  \n",
      "2  REGULAR   6224885  2107352              35  \n",
      "3  REGULAR   6225005  2107452             120  \n",
      "4  REGULAR   6225248  2107513             243  \n"
     ]
    }
   ],
   "source": [
    "#TESTANDO\n",
    "import pandas\n",
    "test_A002 = master_turnstile_reg[master_turnstile_reg[\"C/A\"] == \"A002\"]\n",
    "#print test_A002.head()\n",
    "#test_A002 = pandas.read_table(\"turnstile_A002(TEST).txt\", sep=\",\")\n",
    "out_test_A002 = get_hourly_entries(test_A002)\n",
    "print out_test_A002.head()"
   ]
  },
  {
   "cell_type": "markdown",
   "metadata": {},
   "source": [
    "**DÚVIDA:**Como solucionar o \"erro\" reportado a cima? ME parece estar funcionando perfeitamente mesmo assim. \n",
    "\n",
    "OBS: O próximo exercício também reporta a mesma mensagem."
   ]
  },
  {
   "cell_type": "markdown",
   "metadata": {},
   "source": [
    "### *Exercicio 1.5*\n",
    "\n",
    "Faça o mesmo do exercicio anterior mas agora considerando as saidas, coluna EXITSn.\n",
    "Para isso crie uma coluna chamada de EXITSn_hourly e insira a diferença entre a coluna EXITSn da linha atual versus a linha anterior. Se tiver algum NaN, preencha/substitua por 0.\n",
    "\n"
   ]
  },
  {
   "cell_type": "code",
   "execution_count": 8,
   "metadata": {
    "collapsed": true
   },
   "outputs": [],
   "source": [
    "import pandas\n",
    "\n",
    "def get_hourly_exits(df):\n",
    "    df[\"EXITSn\"].fillna(0, inplace=True)\n",
    "    df[\"EXITSn_hourly\"] = \"\"\n",
    "    df[\"EXITSn_shift\"] = df.EXITSn.shift(1)\n",
    "    for index, row in df.iterrows():\n",
    "        if index == 0:\n",
    "            df.set_value(index, \"EXITSn_hourly\", 1)\n",
    "          \n",
    "        else:    \n",
    "            dif = row[\"EXITSn\"] - row[\"EXITSn_shift\"]\n",
    "            df.set_value(index, \"EXITSn_hourly\", dif)\n",
    "    df = df.drop(\"EXITSn_shift\", 1) \n",
    "    return df"
   ]
  },
  {
   "cell_type": "code",
   "execution_count": 9,
   "metadata": {},
   "outputs": [
    {
     "name": "stderr",
     "output_type": "stream",
     "text": [
      "C:\\Users\\User\\Anaconda3\\envs\\py2\\lib\\site-packages\\ipykernel_launcher.py:5: SettingWithCopyWarning: \n",
      "A value is trying to be set on a copy of a slice from a DataFrame.\n",
      "Try using .loc[row_indexer,col_indexer] = value instead\n",
      "\n",
      "See the caveats in the documentation: http://pandas.pydata.org/pandas-docs/stable/indexing.html#indexing-view-versus-copy\n",
      "  \"\"\"\n",
      "C:\\Users\\User\\Anaconda3\\envs\\py2\\lib\\site-packages\\ipykernel_launcher.py:6: SettingWithCopyWarning: \n",
      "A value is trying to be set on a copy of a slice from a DataFrame.\n",
      "Try using .loc[row_indexer,col_indexer] = value instead\n",
      "\n",
      "See the caveats in the documentation: http://pandas.pydata.org/pandas-docs/stable/indexing.html#indexing-view-versus-copy\n",
      "  \n"
     ]
    },
    {
     "name": "stdout",
     "output_type": "stream",
     "text": [
      "    C/A  UNIT       SCP STATION  LINENAME  DIVISION       DATEn     TIMEn  \\\n",
      "0  A002  R051  02-00-00   59 ST   NQR456W       BMT  06/17/2017  00:00:00   \n",
      "1  A002  R051  02-00-00   59 ST   NQR456W       BMT  06/17/2017  04:00:00   \n",
      "2  A002  R051  02-00-00   59 ST   NQR456W       BMT  06/17/2017  08:00:00   \n",
      "3  A002  R051  02-00-00   59 ST   NQR456W       BMT  06/17/2017  12:00:00   \n",
      "4  A002  R051  02-00-00   59 ST   NQR456W       BMT  06/17/2017  16:00:00   \n",
      "\n",
      "     DESCn  ENTRIESn   EXITSn EXITSn_hourly  \n",
      "0  REGULAR   6224816  2107317             1  \n",
      "1  REGULAR   6224850  2107322             5  \n",
      "2  REGULAR   6224885  2107352            30  \n",
      "3  REGULAR   6225005  2107452           100  \n",
      "4  REGULAR   6225248  2107513            61  \n"
     ]
    }
   ],
   "source": [
    "#TESTANDO 02\n",
    "\n",
    "test2_A002 = master_turnstile_reg[master_turnstile_reg[\"C/A\"] == \"A002\"]\n",
    "#print test_A002.head()\n",
    "\n",
    "out_test2_A002 = get_hourly_exits(test2_A002)\n",
    "print out_test2_A002.head()"
   ]
  },
  {
   "cell_type": "markdown",
   "metadata": {},
   "source": [
    "### *Exercicio 1.6*\n",
    "\n",
    "Dado uma variável de entrada que representa o tempo no formato de:\n",
    "     \"00:00:00\" (hora: minutos: segundos)\n",
    "    \n",
    "Escreva uma função para extrair a parte da hora do tempo variável de entrada\n",
    "E devolva-o como um número inteiro. Por exemplo:\n",
    "         \n",
    "         1) se a hora for 00, seu código deve retornar 0\n",
    "         2) se a hora for 01, seu código deve retornar 1\n",
    "         3) se a hora for 21, seu código deve retornar 21\n",
    "        \n",
    "Por favor, devolva a hora como um número inteiro.\n"
   ]
  },
  {
   "cell_type": "code",
   "execution_count": 10,
   "metadata": {},
   "outputs": [
    {
     "name": "stdout",
     "output_type": "stream",
     "text": [
      "<type 'str'>\n"
     ]
    }
   ],
   "source": [
    "#Qual o tipo de dados em análise?\n",
    "print type(out_test2_A002[\"TIMEn\"][0])"
   ]
  },
  {
   "cell_type": "code",
   "execution_count": 11,
   "metadata": {
    "collapsed": true
   },
   "outputs": [],
   "source": [
    "#Como é um string é possível acessar os dois primeiro caracteres do string para extrair a hora.\n",
    "def time_to_hour(time):\n",
    "    \n",
    "    hour = int(time[:2])\n",
    "    return hour"
   ]
  },
  {
   "cell_type": "code",
   "execution_count": 12,
   "metadata": {},
   "outputs": [
    {
     "name": "stdout",
     "output_type": "stream",
     "text": [
      "25 <type 'int'>\n"
     ]
    }
   ],
   "source": [
    "#TESTE\n",
    "time_test = \"25:45:38\"\n",
    "out_time = time_to_hour(time_test)\n",
    "print out_time, type(out_time)"
   ]
  },
  {
   "cell_type": "markdown",
   "metadata": {},
   "source": [
    "## Exercicio 2 - Análise dos dados\n",
    "\n",
    "### *Exercicio 2.1*\n",
    "\n",
    "Para verificar a relação entre o movimento do metrô e o clima, precisaremos complementar os dados do arquivo já baixado com os dados do clima.\n",
    "Nós complementamos para você este arquivo com os dados de clima de Nova Iorque  e disponibilizamos na área de materiais do projeto. Você pode acessa-lo pelo link: https://s3.amazonaws.com/content.udacity-data.com/courses/ud359/turnstile_data_master_with_weather.csv\n",
    "\n",
    "Agora que temos nossos dados em um arquivo csv, escreva um código python que leia este arquivo e salve-o em um data frame do pandas. \n",
    "\n",
    "Dica: \n",
    "\n",
    "Utilize o comando abaixo para ler o arquivo:\n",
    "\n",
    "```python\n",
    "pd.read_csv('output_list.txt', sep=\",\")\n",
    "```\n",
    "\n"
   ]
  },
  {
   "cell_type": "code",
   "execution_count": 13,
   "metadata": {},
   "outputs": [
    {
     "name": "stdout",
     "output_type": "stream",
     "text": [
      "<class 'pandas.core.frame.DataFrame'>\n",
      "    Unnamed: 0  UNIT       DATEn     TIMEn  Hour    DESCn  ENTRIESn_hourly  \\\n",
      "0            0  R001  2011-05-01  01:00:00     1  REGULAR              0.0   \n",
      "1            1  R001  2011-05-01  05:00:00     5  REGULAR            217.0   \n",
      "2            2  R001  2011-05-01  09:00:00     9  REGULAR            890.0   \n",
      "3            3  R001  2011-05-01  13:00:00    13  REGULAR           2451.0   \n",
      "4            4  R001  2011-05-01  17:00:00    17  REGULAR           4400.0   \n",
      "5            5  R001  2011-05-01  21:00:00    21  REGULAR           3372.0   \n",
      "6            6  R002  2011-05-01  01:00:00     1  REGULAR              0.0   \n",
      "7            7  R002  2011-05-01  05:00:00     5  REGULAR             42.0   \n",
      "8            8  R002  2011-05-01  09:00:00     9  REGULAR             50.0   \n",
      "9            9  R002  2011-05-01  13:00:00    13  REGULAR            316.0   \n",
      "10          10  R002  2011-05-01  17:00:00    17  REGULAR            633.0   \n",
      "11          11  R002  2011-05-01  21:00:00    21  REGULAR            639.0   \n",
      "12          12  R003  2011-05-01  00:00:00     0  REGULAR              0.0   \n",
      "13          13  R003  2011-05-01  04:00:00     4  REGULAR              0.0   \n",
      "14          14  R003  2011-05-01  12:00:00    12  REGULAR              0.0   \n",
      "15          15  R003  2011-05-01  16:00:00    16  REGULAR              0.0   \n",
      "16          16  R003  2011-05-01  20:00:00    20  REGULAR              0.0   \n",
      "17          17  R004  2011-05-01  00:00:00     0  REGULAR              0.0   \n",
      "18          18  R004  2011-05-01  04:00:00     4  REGULAR              0.0   \n",
      "19          19  R004  2011-05-01  08:00:00     8  REGULAR              0.0   \n",
      "\n",
      "    EXITSn_hourly  maxpressurei  maxdewpti   ...     meandewpti  \\\n",
      "0             0.0         30.31       42.0   ...           39.0   \n",
      "1           553.0         30.31       42.0   ...           39.0   \n",
      "2          1262.0         30.31       42.0   ...           39.0   \n",
      "3          3708.0         30.31       42.0   ...           39.0   \n",
      "4          2501.0         30.31       42.0   ...           39.0   \n",
      "5          2122.0         30.31       42.0   ...           39.0   \n",
      "6             0.0         30.31       42.0   ...           39.0   \n",
      "7            66.0         30.31       42.0   ...           39.0   \n",
      "8           125.0         30.31       42.0   ...           39.0   \n",
      "9           716.0         30.31       42.0   ...           39.0   \n",
      "10          968.0         30.31       42.0   ...           39.0   \n",
      "11          566.0         30.31       42.0   ...           39.0   \n",
      "12            0.0         30.31       42.0   ...           39.0   \n",
      "13            0.0         30.31       42.0   ...           39.0   \n",
      "14            0.0         30.31       42.0   ...           39.0   \n",
      "15            0.0         30.31       42.0   ...           39.0   \n",
      "16            0.0         30.31       42.0   ...           39.0   \n",
      "17            0.0         30.31       42.0   ...           39.0   \n",
      "18            0.0         30.31       42.0   ...           39.0   \n",
      "19            0.0         30.31       42.0   ...           39.0   \n",
      "\n",
      "    meanpressurei  fog  rain  meanwindspdi  mintempi  meantempi  maxtempi  \\\n",
      "0           30.27  0.0   0.0           5.0      50.0       60.0      69.0   \n",
      "1           30.27  0.0   0.0           5.0      50.0       60.0      69.0   \n",
      "2           30.27  0.0   0.0           5.0      50.0       60.0      69.0   \n",
      "3           30.27  0.0   0.0           5.0      50.0       60.0      69.0   \n",
      "4           30.27  0.0   0.0           5.0      50.0       60.0      69.0   \n",
      "5           30.27  0.0   0.0           5.0      50.0       60.0      69.0   \n",
      "6           30.27  0.0   0.0           5.0      50.0       60.0      69.0   \n",
      "7           30.27  0.0   0.0           5.0      50.0       60.0      69.0   \n",
      "8           30.27  0.0   0.0           5.0      50.0       60.0      69.0   \n",
      "9           30.27  0.0   0.0           5.0      50.0       60.0      69.0   \n",
      "10          30.27  0.0   0.0           5.0      50.0       60.0      69.0   \n",
      "11          30.27  0.0   0.0           5.0      50.0       60.0      69.0   \n",
      "12          30.27  0.0   0.0           5.0      50.0       60.0      69.0   \n",
      "13          30.27  0.0   0.0           5.0      50.0       60.0      69.0   \n",
      "14          30.27  0.0   0.0           5.0      50.0       60.0      69.0   \n",
      "15          30.27  0.0   0.0           5.0      50.0       60.0      69.0   \n",
      "16          30.27  0.0   0.0           5.0      50.0       60.0      69.0   \n",
      "17          30.27  0.0   0.0           5.0      50.0       60.0      69.0   \n",
      "18          30.27  0.0   0.0           5.0      50.0       60.0      69.0   \n",
      "19          30.27  0.0   0.0           5.0      50.0       60.0      69.0   \n",
      "\n",
      "    precipi  thunder  \n",
      "0       0.0      0.0  \n",
      "1       0.0      0.0  \n",
      "2       0.0      0.0  \n",
      "3       0.0      0.0  \n",
      "4       0.0      0.0  \n",
      "5       0.0      0.0  \n",
      "6       0.0      0.0  \n",
      "7       0.0      0.0  \n",
      "8       0.0      0.0  \n",
      "9       0.0      0.0  \n",
      "10      0.0      0.0  \n",
      "11      0.0      0.0  \n",
      "12      0.0      0.0  \n",
      "13      0.0      0.0  \n",
      "14      0.0      0.0  \n",
      "15      0.0      0.0  \n",
      "16      0.0      0.0  \n",
      "17      0.0      0.0  \n",
      "18      0.0      0.0  \n",
      "19      0.0      0.0  \n",
      "\n",
      "[20 rows x 22 columns]\n",
      "        Unnamed: 0  UNIT       DATEn     TIMEn  Hour    DESCn  \\\n",
      "131931      131931  R552  2011-05-30  19:38:47    19  REGULAR   \n",
      "131932      131932  R552  2011-05-30  19:52:07    19  REGULAR   \n",
      "131933      131933  R552  2011-05-30  20:10:01    20  REGULAR   \n",
      "131934      131934  R552  2011-05-30  20:17:36    20  REGULAR   \n",
      "131935      131935  R552  2011-05-30  20:23:06    20  REGULAR   \n",
      "131936      131936  R552  2011-05-30  20:51:44    20  REGULAR   \n",
      "131937      131937  R552  2011-05-30  20:58:04    20  REGULAR   \n",
      "131938      131938  R552  2011-05-30  20:58:21    20  REGULAR   \n",
      "131939      131939  R552  2011-05-30  21:14:49    21  REGULAR   \n",
      "131940      131940  R552  2011-05-30  21:21:28    21  REGULAR   \n",
      "131941      131941  R552  2011-05-30  22:07:25    22  REGULAR   \n",
      "131942      131942  R552  2011-05-30  22:21:09    22  REGULAR   \n",
      "131943      131943  R552  2011-05-30  22:27:11    22  REGULAR   \n",
      "131944      131944  R552  2011-05-30  22:39:32    22  REGULAR   \n",
      "131945      131945  R552  2011-05-30  22:58:54    22  REGULAR   \n",
      "131946      131946  R552  2011-05-30  23:21:29    23  REGULAR   \n",
      "131947      131947  R552  2011-05-30  23:23:30    23  REGULAR   \n",
      "131948      131948  R552  2011-05-30  23:28:44    23  REGULAR   \n",
      "131949      131949  R552  2011-05-30  23:35:45    23  REGULAR   \n",
      "131950      131950  R552  2011-05-30  23:50:47    23  REGULAR   \n",
      "\n",
      "        ENTRIESn_hourly  EXITSn_hourly  maxpressurei  maxdewpti   ...     \\\n",
      "131931            275.0           71.0         30.13       70.0   ...      \n",
      "131932            133.0           39.0         30.13       70.0   ...      \n",
      "131933              7.0          332.0         30.13       70.0   ...      \n",
      "131934            128.0          447.0         30.13       70.0   ...      \n",
      "131935            142.0          677.0         30.13       70.0   ...      \n",
      "131936              0.0            0.0         30.13       70.0   ...      \n",
      "131937            248.0          257.0         30.13       70.0   ...      \n",
      "131938             62.0           32.0         30.13       70.0   ...      \n",
      "131939            116.0          726.0         30.13       70.0   ...      \n",
      "131940             68.0          115.0         30.13       70.0   ...      \n",
      "131941              7.0            4.0         30.13       70.0   ...      \n",
      "131942             80.0           63.0         30.13       70.0   ...      \n",
      "131943            195.0          207.0         30.13       70.0   ...      \n",
      "131944             18.0            4.0         30.13       70.0   ...      \n",
      "131945              0.0            0.0         30.13       70.0   ...      \n",
      "131946             19.0           14.0         30.13       70.0   ...      \n",
      "131947            158.0         1022.0         30.13       70.0   ...      \n",
      "131948             54.0          275.0         30.13       70.0   ...      \n",
      "131949             59.0           46.0         30.13       70.0   ...      \n",
      "131950            123.0          108.0         30.13       70.0   ...      \n",
      "\n",
      "        meandewpti  meanpressurei  fog  rain  meanwindspdi  mintempi  \\\n",
      "131931        68.0          30.08  0.0   1.0           5.0      70.0   \n",
      "131932        68.0          30.08  0.0   1.0           5.0      70.0   \n",
      "131933        68.0          30.08  0.0   1.0           5.0      70.0   \n",
      "131934        68.0          30.08  0.0   1.0           5.0      70.0   \n",
      "131935        68.0          30.08  0.0   1.0           5.0      70.0   \n",
      "131936        68.0          30.08  0.0   1.0           5.0      70.0   \n",
      "131937        68.0          30.08  0.0   1.0           5.0      70.0   \n",
      "131938        68.0          30.08  0.0   1.0           5.0      70.0   \n",
      "131939        68.0          30.08  0.0   1.0           5.0      70.0   \n",
      "131940        68.0          30.08  0.0   1.0           5.0      70.0   \n",
      "131941        68.0          30.08  0.0   1.0           5.0      70.0   \n",
      "131942        68.0          30.08  0.0   1.0           5.0      70.0   \n",
      "131943        68.0          30.08  0.0   1.0           5.0      70.0   \n",
      "131944        68.0          30.08  0.0   1.0           5.0      70.0   \n",
      "131945        68.0          30.08  0.0   1.0           5.0      70.0   \n",
      "131946        68.0          30.08  0.0   1.0           5.0      70.0   \n",
      "131947        68.0          30.08  0.0   1.0           5.0      70.0   \n",
      "131948        68.0          30.08  0.0   1.0           5.0      70.0   \n",
      "131949        68.0          30.08  0.0   1.0           5.0      70.0   \n",
      "131950        68.0          30.08  0.0   1.0           5.0      70.0   \n",
      "\n",
      "        meantempi  maxtempi  precipi  thunder  \n",
      "131931       78.0      86.0     0.29      0.0  \n",
      "131932       78.0      86.0     0.29      0.0  \n",
      "131933       78.0      86.0     0.29      0.0  \n",
      "131934       78.0      86.0     0.29      0.0  \n",
      "131935       78.0      86.0     0.29      0.0  \n",
      "131936       78.0      86.0     0.29      0.0  \n",
      "131937       78.0      86.0     0.29      0.0  \n",
      "131938       78.0      86.0     0.29      0.0  \n",
      "131939       78.0      86.0     0.29      0.0  \n",
      "131940       78.0      86.0     0.29      0.0  \n",
      "131941       78.0      86.0     0.29      0.0  \n",
      "131942       78.0      86.0     0.29      0.0  \n",
      "131943       78.0      86.0     0.29      0.0  \n",
      "131944       78.0      86.0     0.29      0.0  \n",
      "131945       78.0      86.0     0.29      0.0  \n",
      "131946       78.0      86.0     0.29      0.0  \n",
      "131947       78.0      86.0     0.29      0.0  \n",
      "131948       78.0      86.0     0.29      0.0  \n",
      "131949       78.0      86.0     0.29      0.0  \n",
      "131950       78.0      86.0     0.29      0.0  \n",
      "\n",
      "[20 rows x 22 columns]\n"
     ]
    }
   ],
   "source": [
    "import pandas as pd\n",
    "\n",
    "filename = \"turnstile_data_master_with_weather.csv\"\n",
    "\n",
    "df_master_weather = pd.read_csv(filename, sep=\",\")\n",
    "\n",
    "print type(df_master_weather)\n",
    "print df_master_weather.head(20)\n",
    "print df_master_weather.tail(20)"
   ]
  },
  {
   "cell_type": "markdown",
   "metadata": {},
   "source": [
    "### *Exercicio 2.2*\n",
    "\n",
    "Agora crie uma função que calcule a quantidade de dias chuvosos, para isso retorne a contagem do numero de dias onde a coluna *\"rain\"* é igual a 1.\n",
    "\n",
    "Dica: Você também pode achar que a interpretação de números como números inteiros ou float pode não\n",
    "     funcionar inicialmente. Para contornar esta questão, pode ser útil converter\n",
    "     esses números para números inteiros. Isso pode ser feito escrevendo cast (coluna como inteiro).\n",
    "     Então, por exemplo, se queríamos lançar a coluna maxtempi como um número inteiro, nós devemos\n",
    "     escrever algo como cast (maxtempi as integer) = 76, em oposição a simplesmente\n",
    "     onde maxtempi = 76."
   ]
  },
  {
   "cell_type": "code",
   "execution_count": 14,
   "metadata": {
    "collapsed": true
   },
   "outputs": [],
   "source": [
    "#Testadno a conversão para inteiro\n",
    "test_rain = df_master_weather\n",
    "test_rain['rain'] = test_rain['rain'].astype(int)\n",
    "#print test_rain.head()\n",
    "#print test_rain.tail()"
   ]
  },
  {
   "cell_type": "markdown",
   "metadata": {},
   "source": [
    "Para daterminar o número de dias chuvosos é preciso filtrar as datas, para que datas repitidas não sejam contadas mais de uma vez. Ao analisar o arquivo me pareceu que não há erro nos dados, ou seja, todos os dados de chuva para um certo dia são sempre iguais, não existe um dia com dados de chuva igual a 1 e também igual a 0. Mesmo assim, se existir, esse dias será contado como um dia de chuva. "
   ]
  },
  {
   "cell_type": "markdown",
   "metadata": {},
   "source": [
    "### Opção 1 (mais simples)"
   ]
  },
  {
   "cell_type": "code",
   "execution_count": 15,
   "metadata": {
    "collapsed": true
   },
   "outputs": [],
   "source": [
    "def num_rainy_days(df):\n",
    "    \n",
    "    rainy_days = len(df[df.rain == 1].groupby('DATEn'))\n",
    "    \n",
    "    return rainy_days"
   ]
  },
  {
   "cell_type": "markdown",
   "metadata": {},
   "source": [
    "### Opção 2"
   ]
  },
  {
   "cell_type": "code",
   "execution_count": 16,
   "metadata": {
    "collapsed": true
   },
   "outputs": [],
   "source": [
    "#def num_rainy_days(df):\n",
    "#\n",
    "#    df['rain'] = df['rain'].astype(int)\n",
    "#    #para cada linha\n",
    "#        #Se data não existe no dict\n",
    "#            #criar key e value of rain\n",
    "#        #Se o dado rain for 1:\n",
    "#            #altarar o valor da chave para um\n",
    "#    date_rain = {}\n",
    "#    for index, row in df.iterrows():\n",
    "#        if row[\"DATEn\"] not in date_rain.keys():\n",
    "#            date_rain[row[\"DATEn\"]] = row['rain']\n",
    "#        elif row['rain'] == 1:\n",
    "#            date_rain[row[\"DATEn\"]] = row['rain']\n",
    "#        else:\n",
    "#            continue\n",
    "#    #print date_rain\n",
    "#    #print date_rain.keys(), type(date_rain.keys())\n",
    "#    values = date_rain.values()\n",
    "#    rainy_days = sum(values)\n",
    "#    return rainy_days"
   ]
  },
  {
   "cell_type": "code",
   "execution_count": 17,
   "metadata": {},
   "outputs": [
    {
     "name": "stdout",
     "output_type": "stream",
     "text": [
      "Do total de 30 dias do mês 5,  10  dias foram chuvosos.\n"
     ]
    }
   ],
   "source": [
    "#Determinado o número de dias chuvosos do dataframe df_master_weather\n",
    "rainy_days = num_rainy_days(df_master_weather)\n",
    "print \"Do total de 30 dias do mês 5, \", rainy_days, \" dias foram chuvosos.\""
   ]
  },
  {
   "cell_type": "markdown",
   "metadata": {},
   "source": [
    "### *Exercicio 2.3*\n",
    "\n",
    "Calcule se estava nebuloso ou não (0 ou 1) e a temperatura máxima para fog (isto é, a temperatura máxima \n",
    "     para dias nebulosos).\n",
    "  \n",
    "**REFORMULANDO CONFORME ORIENTAÇÃO DA UDACITY (Forúm): ** Calcule a temperatura máxima para dias nublados e não nublados"
   ]
  },
  {
   "cell_type": "code",
   "execution_count": 18,
   "metadata": {},
   "outputs": [
    {
     "data": {
      "text/html": [
       "<div>\n",
       "<style>\n",
       "    .dataframe thead tr:only-child th {\n",
       "        text-align: right;\n",
       "    }\n",
       "\n",
       "    .dataframe thead th {\n",
       "        text-align: left;\n",
       "    }\n",
       "\n",
       "    .dataframe tbody tr th {\n",
       "        vertical-align: top;\n",
       "    }\n",
       "</style>\n",
       "<table border=\"1\" class=\"dataframe\">\n",
       "  <thead>\n",
       "    <tr style=\"text-align: right;\">\n",
       "      <th></th>\n",
       "      <th>Unnamed: 0</th>\n",
       "      <th>UNIT</th>\n",
       "      <th>DATEn</th>\n",
       "      <th>TIMEn</th>\n",
       "      <th>Hour</th>\n",
       "      <th>DESCn</th>\n",
       "      <th>ENTRIESn_hourly</th>\n",
       "      <th>EXITSn_hourly</th>\n",
       "      <th>maxpressurei</th>\n",
       "      <th>maxdewpti</th>\n",
       "      <th>...</th>\n",
       "      <th>meandewpti</th>\n",
       "      <th>meanpressurei</th>\n",
       "      <th>fog</th>\n",
       "      <th>rain</th>\n",
       "      <th>meanwindspdi</th>\n",
       "      <th>mintempi</th>\n",
       "      <th>meantempi</th>\n",
       "      <th>maxtempi</th>\n",
       "      <th>precipi</th>\n",
       "      <th>thunder</th>\n",
       "    </tr>\n",
       "  </thead>\n",
       "  <tbody>\n",
       "    <tr>\n",
       "      <th>0</th>\n",
       "      <td>0</td>\n",
       "      <td>R001</td>\n",
       "      <td>2011-05-01</td>\n",
       "      <td>01:00:00</td>\n",
       "      <td>1</td>\n",
       "      <td>REGULAR</td>\n",
       "      <td>0.0</td>\n",
       "      <td>0.0</td>\n",
       "      <td>30.31</td>\n",
       "      <td>42.0</td>\n",
       "      <td>...</td>\n",
       "      <td>39.0</td>\n",
       "      <td>30.27</td>\n",
       "      <td>0.0</td>\n",
       "      <td>0</td>\n",
       "      <td>5.0</td>\n",
       "      <td>50.0</td>\n",
       "      <td>60.0</td>\n",
       "      <td>69.0</td>\n",
       "      <td>0.0</td>\n",
       "      <td>0.0</td>\n",
       "    </tr>\n",
       "    <tr>\n",
       "      <th>1</th>\n",
       "      <td>1</td>\n",
       "      <td>R001</td>\n",
       "      <td>2011-05-01</td>\n",
       "      <td>05:00:00</td>\n",
       "      <td>5</td>\n",
       "      <td>REGULAR</td>\n",
       "      <td>217.0</td>\n",
       "      <td>553.0</td>\n",
       "      <td>30.31</td>\n",
       "      <td>42.0</td>\n",
       "      <td>...</td>\n",
       "      <td>39.0</td>\n",
       "      <td>30.27</td>\n",
       "      <td>0.0</td>\n",
       "      <td>0</td>\n",
       "      <td>5.0</td>\n",
       "      <td>50.0</td>\n",
       "      <td>60.0</td>\n",
       "      <td>69.0</td>\n",
       "      <td>0.0</td>\n",
       "      <td>0.0</td>\n",
       "    </tr>\n",
       "    <tr>\n",
       "      <th>2</th>\n",
       "      <td>2</td>\n",
       "      <td>R001</td>\n",
       "      <td>2011-05-01</td>\n",
       "      <td>09:00:00</td>\n",
       "      <td>9</td>\n",
       "      <td>REGULAR</td>\n",
       "      <td>890.0</td>\n",
       "      <td>1262.0</td>\n",
       "      <td>30.31</td>\n",
       "      <td>42.0</td>\n",
       "      <td>...</td>\n",
       "      <td>39.0</td>\n",
       "      <td>30.27</td>\n",
       "      <td>0.0</td>\n",
       "      <td>0</td>\n",
       "      <td>5.0</td>\n",
       "      <td>50.0</td>\n",
       "      <td>60.0</td>\n",
       "      <td>69.0</td>\n",
       "      <td>0.0</td>\n",
       "      <td>0.0</td>\n",
       "    </tr>\n",
       "    <tr>\n",
       "      <th>3</th>\n",
       "      <td>3</td>\n",
       "      <td>R001</td>\n",
       "      <td>2011-05-01</td>\n",
       "      <td>13:00:00</td>\n",
       "      <td>13</td>\n",
       "      <td>REGULAR</td>\n",
       "      <td>2451.0</td>\n",
       "      <td>3708.0</td>\n",
       "      <td>30.31</td>\n",
       "      <td>42.0</td>\n",
       "      <td>...</td>\n",
       "      <td>39.0</td>\n",
       "      <td>30.27</td>\n",
       "      <td>0.0</td>\n",
       "      <td>0</td>\n",
       "      <td>5.0</td>\n",
       "      <td>50.0</td>\n",
       "      <td>60.0</td>\n",
       "      <td>69.0</td>\n",
       "      <td>0.0</td>\n",
       "      <td>0.0</td>\n",
       "    </tr>\n",
       "    <tr>\n",
       "      <th>4</th>\n",
       "      <td>4</td>\n",
       "      <td>R001</td>\n",
       "      <td>2011-05-01</td>\n",
       "      <td>17:00:00</td>\n",
       "      <td>17</td>\n",
       "      <td>REGULAR</td>\n",
       "      <td>4400.0</td>\n",
       "      <td>2501.0</td>\n",
       "      <td>30.31</td>\n",
       "      <td>42.0</td>\n",
       "      <td>...</td>\n",
       "      <td>39.0</td>\n",
       "      <td>30.27</td>\n",
       "      <td>0.0</td>\n",
       "      <td>0</td>\n",
       "      <td>5.0</td>\n",
       "      <td>50.0</td>\n",
       "      <td>60.0</td>\n",
       "      <td>69.0</td>\n",
       "      <td>0.0</td>\n",
       "      <td>0.0</td>\n",
       "    </tr>\n",
       "  </tbody>\n",
       "</table>\n",
       "<p>5 rows × 22 columns</p>\n",
       "</div>"
      ],
      "text/plain": [
       "   Unnamed: 0  UNIT       DATEn     TIMEn  Hour    DESCn  ENTRIESn_hourly  \\\n",
       "0           0  R001  2011-05-01  01:00:00     1  REGULAR              0.0   \n",
       "1           1  R001  2011-05-01  05:00:00     5  REGULAR            217.0   \n",
       "2           2  R001  2011-05-01  09:00:00     9  REGULAR            890.0   \n",
       "3           3  R001  2011-05-01  13:00:00    13  REGULAR           2451.0   \n",
       "4           4  R001  2011-05-01  17:00:00    17  REGULAR           4400.0   \n",
       "\n",
       "   EXITSn_hourly  maxpressurei  maxdewpti   ...     meandewpti  meanpressurei  \\\n",
       "0            0.0         30.31       42.0   ...           39.0          30.27   \n",
       "1          553.0         30.31       42.0   ...           39.0          30.27   \n",
       "2         1262.0         30.31       42.0   ...           39.0          30.27   \n",
       "3         3708.0         30.31       42.0   ...           39.0          30.27   \n",
       "4         2501.0         30.31       42.0   ...           39.0          30.27   \n",
       "\n",
       "   fog  rain  meanwindspdi  mintempi  meantempi  maxtempi  precipi  thunder  \n",
       "0  0.0     0           5.0      50.0       60.0      69.0      0.0      0.0  \n",
       "1  0.0     0           5.0      50.0       60.0      69.0      0.0      0.0  \n",
       "2  0.0     0           5.0      50.0       60.0      69.0      0.0      0.0  \n",
       "3  0.0     0           5.0      50.0       60.0      69.0      0.0      0.0  \n",
       "4  0.0     0           5.0      50.0       60.0      69.0      0.0      0.0  \n",
       "\n",
       "[5 rows x 22 columns]"
      ]
     },
     "execution_count": 18,
     "metadata": {},
     "output_type": "execute_result"
    }
   ],
   "source": [
    "#Apenas para visualizar os dados que serão analisados\n",
    "df_master_weather.head()"
   ]
  },
  {
   "cell_type": "code",
   "execution_count": 19,
   "metadata": {},
   "outputs": [
    {
     "data": {
      "text/plain": [
       "numpy.float64"
      ]
     },
     "execution_count": 19,
     "metadata": {},
     "output_type": "execute_result"
    }
   ],
   "source": [
    "#Qual p type de dado 'fog'?\n",
    "type(df_master_weather['fog'][0])"
   ]
  },
  {
   "cell_type": "markdown",
   "metadata": {},
   "source": [
    "### Opção 1 (mais simples) "
   ]
  },
  {
   "cell_type": "code",
   "execution_count": 20,
   "metadata": {
    "collapsed": true
   },
   "outputs": [],
   "source": [
    "def max_temp_aggregate_by_fog(df):\n",
    "    \n",
    "    max_fog = df.groupby(\"fog\").maxtempi.max()\n",
    "              \n",
    "    return max_fog"
   ]
  },
  {
   "cell_type": "code",
   "execution_count": 21,
   "metadata": {},
   "outputs": [
    {
     "name": "stdout",
     "output_type": "stream",
     "text": [
      "Para tempo nublado, a máxima temperatura foi de  81.0 , já para tempo não nublado a temperatura máxima foi de  86.0 .\n"
     ]
    }
   ],
   "source": [
    "maxtemp_fog = max_temp_aggregate_by_fog(df_master_weather)\n",
    "#print type(maxtemp_fog)\n",
    "print 'Para tempo nublado, a máxima temperatura foi de ', maxtemp_fog[1], ', já para tempo não nublado a temperatura máxima foi de ',maxtemp_fog[0],'.'"
   ]
  },
  {
   "cell_type": "markdown",
   "metadata": {},
   "source": [
    "### Opção 2 - Para dias nublados enão nublados"
   ]
  },
  {
   "cell_type": "code",
   "execution_count": 22,
   "metadata": {
    "collapsed": true
   },
   "outputs": [],
   "source": [
    "#def max_temp_aggregate_by_fog(df):\n",
    "#    max_fog = 0\n",
    "#    max_not_fog = 0\n",
    "#    #transformando para type int\n",
    "#    df['fog'] = df['fog'].astype(int)\n",
    "#    for index, row in df.iterrows():\n",
    "#        fog = row['fog']\n",
    "#        maxtemp = row['maxtempi']\n",
    "#        if fog == 1:\n",
    "#            if maxtemp > max_fog:\n",
    "#                max_fog = maxtemp\n",
    "#        else:\n",
    "#            if maxtemp > max_not_fog:\n",
    "#                max_not_fog = maxtemp\n",
    "#    return max_fog, max_not_fog"
   ]
  },
  {
   "cell_type": "code",
   "execution_count": 23,
   "metadata": {
    "collapsed": true
   },
   "outputs": [],
   "source": [
    "#maxtemp_fog, maxtemp_not_fog = max_temp_aggregate_by_fog(df_master_weather)\n",
    "#print 'Para tempo nublado, a máxima temperatura foi de ', maxtemp_fog, ', já para tempo não nublado a temperatura máxima foi de ',maxtemp_not_fog,'.'"
   ]
  },
  {
   "cell_type": "markdown",
   "metadata": {},
   "source": [
    "### *Exercicio 2.4*\n",
    "\n",
    "Calcule agora a média de 'meantempi' nos dias que são sábado ou domingo (finais de semana):"
   ]
  },
  {
   "cell_type": "code",
   "execution_count": 24,
   "metadata": {},
   "outputs": [
    {
     "name": "stdout",
     "output_type": "stream",
     "text": [
      "<class 'pandas.core.series.Series'>\n",
      "0   2014-04-25\n",
      "1   2014-12-04\n",
      "2   2014-02-04\n",
      "3   2014-05-04\n",
      "dtype: datetime64[ns]\n",
      "4\n"
     ]
    }
   ],
   "source": [
    "#TEST (Entender funcionamento dos dados tipo 'datetime64')\n",
    "import pandas as pd\n",
    "from datetime import date\n",
    "t =pd.Series(['25/04/2014','12/04/2014','2/04/2014','5/04/2014']) \n",
    "t1 = pd.to_datetime(t)\n",
    "print type(t1)\n",
    "print t1\n",
    "print t1[0].weekday()"
   ]
  },
  {
   "cell_type": "code",
   "execution_count": 25,
   "metadata": {
    "collapsed": true
   },
   "outputs": [],
   "source": [
    "import pandas as pd\n",
    "import datetime as dt\n",
    "import numpy as np\n",
    "\n",
    "def avg_weekend_temperature(filename):\n",
    "    #transformar a coluna DATEn no tipo date e não deixar string\n",
    "    #Para cada linha do data frame \n",
    "        #se é final de semana \n",
    "            #Se a data já está no dict\n",
    "            #acrescentar a lista\n",
    "    filename['DATEn'] = pd.to_datetime(filename['DATEn'])\n",
    "    filename['DATEn'] = filename['DATEn'].dt.date\n",
    "    weekend_temp = {}\n",
    "    for index, row in filename.iterrows():\n",
    "        weekday = row['DATEn'].weekday()\n",
    "        date = row['DATEn']\n",
    "        if weekday == 5 or weekday == 6: #Se o dia é final de semana\n",
    "            if date not in weekend_temp.keys(): #Se o dia ainda não foi contabilizado\n",
    "                weekend_temp[date] = row['meantempi'] #acrescentar o dia e o valor de sua meantempi\n",
    "                \n",
    "    mean_temp_weekends = np.mean(weekend_temp.values())  # média dos valores de meantempi para os finais de semana\n",
    "    \n",
    "    #print weekend_temp #Apenas para verificacao\n",
    "    \n",
    "    return mean_temp_weekends"
   ]
  },
  {
   "cell_type": "code",
   "execution_count": 26,
   "metadata": {},
   "outputs": [
    {
     "name": "stdout",
     "output_type": "stream",
     "text": [
      "A média de 'mean_tempi' para os finais de semana é de  65.1111111111\n"
     ]
    }
   ],
   "source": [
    "mean_meantempi = avg_weekend_temperature(df_master_weather)\n",
    "print \"A média de 'mean_tempi' para os finais de semana é de \", mean_meantempi"
   ]
  },
  {
   "cell_type": "markdown",
   "metadata": {},
   "source": [
    "### *Exercicio 2.5\n",
    "\n",
    "Calcule a média da temperatura mínima 'mintempi' nos dias chuvosos onde da temperatura mínima foi maior que do 55 graus:"
   ]
  },
  {
   "cell_type": "code",
   "execution_count": 27,
   "metadata": {
    "collapsed": true
   },
   "outputs": [],
   "source": [
    "import pandas as pd\n",
    "import numpy as np\n",
    "\n",
    "def avg_min_temperature(filename):\n",
    "    min_temp_rain = {}\n",
    "    filename['mintempi'] = filename['mintempi'].astype(float)\n",
    "    for index, row in filename.iterrows():\n",
    "        min_temp = row['mintempi']\n",
    "        rain = row['rain']\n",
    "        if (rain == 1) and (min_temp > 55):\n",
    "            date= row['DATEn']\n",
    "            if date not in min_temp_rain.keys():\n",
    "                min_temp_rain[date] = min_temp\n",
    "                            \n",
    "    #print min_temp_rain #Apenas para verificação\n",
    "    avg_min_temp_rainy = np.mean(min_temp_rain.values())\n",
    "    \n",
    "    return avg_min_temp_rainy"
   ]
  },
  {
   "cell_type": "code",
   "execution_count": 28,
   "metadata": {},
   "outputs": [
    {
     "name": "stdout",
     "output_type": "stream",
     "text": [
      "A média da temperatura mínima 'mintempi' nos dias chuvosos onde da temperatura mínima foi maior que do 55 graus é de  61.25\n"
     ]
    }
   ],
   "source": [
    "mean_min_temp_rain =  avg_min_temperature(df_master_weather)\n",
    "print \"A média da temperatura mínima 'mintempi' nos dias chuvosos onde da temperatura mínima foi maior que do 55 graus é de \", mean_min_temp_rain"
   ]
  },
  {
   "cell_type": "markdown",
   "metadata": {},
   "source": [
    "### *Exercicio 2.6\n",
    "\n",
    "Antes de realizar qualquer análise, pode ser útil olhar para os dados que esperamos analisar. Mais especificamente, vamos examinR as entradas por hora em nossos dados do metrô de Nova York para determinar a distribuição dos dados. Estes dados são armazenados na coluna ['ENTRIESn_hourly'].\n",
    "    \n",
    "Trace dois histogramas nos mesmos eixos para mostrar as entradas quando esta chovendo vs quando não está chovendo. \n",
    "Abaixo está um exemplo sobre como traçar histogramas com pandas e matplotlib:\n",
    "     \n",
    "```python\n",
    "Turnstile_weather ['column_to_graph']. Hist ()\n",
    "```   \n",
    "    "
   ]
  },
  {
   "cell_type": "code",
   "execution_count": 29,
   "metadata": {
    "collapsed": true
   },
   "outputs": [],
   "source": [
    "import numpy as np\n",
    "import pandas\n",
    "import matplotlib.pyplot as plt\n",
    "\n",
    "def entries_histogram(turnstile_weather):\n",
    "    \n",
    "    \n",
    "    plt.figure()\n",
    "    \n",
    "    data1 = turnstile_weather['ENTRIESn_hourly'][turnstile_weather.rain == 1]\n",
    "    data2 = turnstile_weather['ENTRIESn_hourly'][turnstile_weather.rain == 0]\n",
    "    \n",
    "    bins = range(0,7000,50)\n",
    "    \n",
    "    ax = data1.plot.hist(label=\"Rain\", alpha=0.7, bins=bins) \n",
    "    ax = data2.plot.hist(label=\"Not Rain\", alpha=0.7, bins=bins, ax=ax) \n",
    "    ax.set_title(\"Entries x Weather\")\n",
    "    ax.set_xlim([-50,7000])\n",
    "    ax.set_ylim([0,27000])\n",
    "    ax.legend()\n",
    "    \n",
    "    return plt.show()"
   ]
  },
  {
   "cell_type": "code",
   "execution_count": 30,
   "metadata": {},
   "outputs": [
    {
     "data": {
      "image/png": "[encoded data removed]",
      "text/plain": [
       "<matplotlib.figure.Figure at 0x10919e10>"
      ]
     },
     "metadata": {},
     "output_type": "display_data"
    },
    {
     "name": "stdout",
     "output_type": "stream",
     "text": [
      "None\n"
     ]
    }
   ],
   "source": [
    "print entries_histogram(df_master_weather)"
   ]
  },
  {
   "cell_type": "markdown",
   "metadata": {},
   "source": [
    "### *Exercicio 2.7\n",
    "\n",
    "Os dados que acabou de plotar que tipo de ditribuição? Existe diferença na distribuição entre dias chuvosos e não chuvosos?"
   ]
  },
  {
   "cell_type": "markdown",
   "metadata": {},
   "source": [
    "** Resposta **: Ambas as distribuição são do tipo Oblíqua inclinadas positivamente, ou seja, a moda está a esquerda da mediana e decaem com o aumento dos valores do eixo X, portanto, ambos os tipos de distribuição apresentam o mesmo comportamento. Porém, existe diferença nas frequências, mostrando que em dias de chuva a utilização cai em magnitude mas as características de utilização são mantidas independentes do dia estar chuvoso ou não."
   ]
  },
  {
   "cell_type": "markdown",
   "metadata": {},
   "source": [
    "### *Exercicio 2.8\n",
    "\n",
    "Construa uma função que que retorne:\n",
    "\n",
    "1. A média das entradas com chuva\n",
    "2. A média das entradas sem chuva\n",
    "\n",
    "\n"
   ]
  },
  {
   "cell_type": "code",
   "execution_count": 31,
   "metadata": {
    "collapsed": true
   },
   "outputs": [],
   "source": [
    "import numpy as np\n",
    "\n",
    "import pandas\n",
    "\n",
    "def means(turnstile_weather):\n",
    "    \n",
    "    with_rain = []\n",
    "    without_rain =[] \n",
    "    for index, row in turnstile_weather.iterrows():\n",
    "        rain = row['rain']\n",
    "        entrie = row['ENTRIESn_hourly']\n",
    "        if rain == 1:\n",
    "            with_rain.append(entrie)\n",
    "        else:\n",
    "            without_rain.append(entrie)\n",
    "    \n",
    "    with_rain_mean = np.mean(with_rain)\n",
    "    without_rain_mean = np.mean(without_rain)\n",
    "    \n",
    "    return with_rain_mean, without_rain_mean"
   ]
  },
  {
   "cell_type": "markdown",
   "metadata": {},
   "source": [
    "Responda as perguntas abaixo de acordo com a saida das suas funções:\n",
    "\n",
    "1. Qual a média das entradas com chuva?\n",
    "2. Qual a média das entradas sem chuva?\n"
   ]
  },
  {
   "cell_type": "code",
   "execution_count": 32,
   "metadata": {},
   "outputs": [
    {
     "name": "stdout",
     "output_type": "stream",
     "text": [
      "A média de entradas com chuva é de  1105.44637675 .\n",
      "\n",
      "A média de entradas sem chuva é de  1090.27878015 .\n"
     ]
    }
   ],
   "source": [
    "media_com_chuva, media_sem_chuva = means(df_master_weather)  \n",
    "\n",
    "print 'A média de entradas com chuva é de ', media_com_chuva, '.'\n",
    "print ''\n",
    "print 'A média de entradas sem chuva é de ', media_sem_chuva, '.'"
   ]
  },
  {
   "cell_type": "markdown",
   "metadata": {},
   "source": [
    "** Resposta **: \n",
    "\n",
    "A média de entradas com chuva é de  1105.44637675 .\n",
    "\n",
    "A média de entradas sem chuva é de  1090.27878015 ."
   ]
  },
  {
   "cell_type": "markdown",
   "metadata": {},
   "source": [
    "## Exercicio 3 - Map Reduce\n",
    "\n",
    "### *Exercicio 3.1*\n",
    "\n",
    "A entrada para esse exercício e o mesmo arquivo da seção anterior (Exercicio 2). Você pode baixar o arquivo neste link:\n",
    "\n",
    " https://s3.amazonaws.com/content.udacity-data.com/courses/ud359/turnstile_data_master_with_weather.csv\n",
    "\n",
    "Varmos criar um mapeador agora. Para cada linha de entrada, a saída do mapeador deve IMPRIMIR (não retornar) a UNIT como uma chave e o número de ENTRIESn_hourly como o valor. Separe a chave e o valor por uma guia. Por exemplo: 'R002 \\ t105105.0'\n",
    "\n",
    "Exporte seu mapeador em um arquivo chamado mapper_result.txt e envie esse arquivo juntamente com a sua submissão. O código para exportar seu mapeador já está escrito no código abaixo.\n",
    "\n",
    "\n"
   ]
  },
  {
   "cell_type": "code",
   "execution_count": 33,
   "metadata": {
    "collapsed": true
   },
   "outputs": [],
   "source": [
    "import sys\n",
    "\n",
    "def mapper():\n",
    "    \n",
    "    \n",
    "    for line in sys.stdin:\n",
    "       \n",
    "        line = line.strip()\n",
    "        line = line.split(',')\n",
    "        #print line\n",
    "        \n",
    "        unit = line[1]\n",
    "        entries = line[6]\n",
    "        print unit,'\\t',entries\n",
    "\n",
    "\n",
    "\n",
    "sys.stdin = open('turnstile_data_master_with_weather.csv')\n",
    "sys.stdout = open('mapper_result.txt', 'w')\n",
    "mapper()"
   ]
  },
  {
   "cell_type": "markdown",
   "metadata": {},
   "source": [
    "### *Exercicio 3.2*\n",
    "\n",
    "Agora crie o redutor. Dado o resultado do mapeador do exercicio anterior, o redutor deve imprimir(Não retornar) uma linha por UNIT, juntamente com o número total de ENTRIESn_hourly.Ao longo de maio (que é a duração dos nossos dados), separados por uma guia. Um exemplo de linha de saída do redutor pode ser assim: 'R001 \\ t500625.0'\n",
    "\n",
    "Você pode assumir que a entrada para o redutor está ordenada de tal forma que todas as linhas correspondentes a uma unidade particular são agrupados. No entanto a saida do redutor terá repetição pois existem lojas que aparecem em locais diferentes dos arquivos.\n",
    "\n",
    "Exporte seu redutor em um arquivo chamado reducer_result.txt e envie esse arquivo juntamente com a sua submissão."
   ]
  },
  {
   "cell_type": "code",
   "execution_count": 34,
   "metadata": {
    "collapsed": true
   },
   "outputs": [],
   "source": [
    "import sys\n",
    "\n",
    "def reducer():\n",
    "    \n",
    "    last_unit = ''\n",
    "    total_entries = float(0)\n",
    "    for line in sys.stdin:\n",
    "        line = line.strip()\n",
    "        line = line.split('\\t')\n",
    "        #print line, len(line)\n",
    "        #break\n",
    "        unit = line[0]\n",
    "        entries = line[1]\n",
    "        #print entries\n",
    "        \n",
    "        if unit == 'UNIT ': #First line\n",
    "            print unit, '  TOTAL ENTRIES'\n",
    "            continue\n",
    "\n",
    "        if last_unit == '':\n",
    "            last_unit = unit        \n",
    "        elif last_unit == unit:\n",
    "            total_entries += float(entries)\n",
    "        else:\n",
    "            print last_unit,'\\t',total_entries\n",
    "            last_unit = unit\n",
    "            total_entries = float(entries)\n",
    "\n",
    "    print unit,'\\t',total_entries    \n",
    "\n",
    "sys.stdin = open('mapper_result.txt')\n",
    "sys.stdout = open('reducer_result.txt', 'w')\n",
    "reducer()"
   ]
  }
 ],
 "metadata": {
  "celltoolbar": "Edit Metadata",
  "kernelspec": {
   "display_name": "Python 2",
   "language": "python",
   "name": "python2"
  },
  "language_info": {
   "codemirror_mode": {
    "name": "ipython",
    "version": 2
   },
   "file_extension": ".py",
   "mimetype": "text/x-python",
   "name": "python",
   "nbconvert_exporter": "python",
   "pygments_lexer": "ipython2",
   "version": "2.7.13"
  }
 },
 "nbformat": 4,
 "nbformat_minor": 2
}
